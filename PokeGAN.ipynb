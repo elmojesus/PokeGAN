{
  "nbformat": 4,
  "nbformat_minor": 0,
  "metadata": {
    "colab": {
      "name": "PokeGAN.ipynb",
      "provenance": [],
      "toc_visible": true,
      "machine_shape": "hm",
      "authorship_tag": "ABX9TyPj5dXCXrkbb1s7of9Sjv3p",
      "include_colab_link": true
    },
    "kernelspec": {
      "name": "python3",
      "display_name": "Python 3"
    },
    "language_info": {
      "name": "python"
    },
    "accelerator": "GPU"
  },
  "cells": [
    {
      "cell_type": "markdown",
      "metadata": {
        "id": "view-in-github",
        "colab_type": "text"
      },
      "source": [
        "<a href=\"https://colab.research.google.com/github/elmojesus/PokeGAN/blob/main/PokeGAN.ipynb\" target=\"_parent\"><img src=\"https://colab.research.google.com/assets/colab-badge.svg\" alt=\"Open In Colab\"/></a>"
      ]
    },
    {
      "cell_type": "markdown",
      "metadata": {
        "id": "QJ6-I9y1EGtz"
      },
      "source": [
        "# Gotta catch em' all!\n",
        "You say you've seen every pokemon.\n",
        "You think you've caught them all.\n",
        "\n",
        "well, not for long"
      ]
    },
    {
      "cell_type": "markdown",
      "metadata": {
        "id": "QGP12m2lE3Q-"
      },
      "source": [
        "# Project Config"
      ]
    },
    {
      "cell_type": "markdown",
      "metadata": {
        "id": "8jxuZ65_E7Hm"
      },
      "source": [
        "Preferably we want a Tesla V100, as they are the fastest. Unfortunately, they're only available for colab pro users.\n",
        "\n",
        "Traininig without a V100 will take significantly longer.\n",
        "\n",
        "Make sure you've enabled a GPU accelerator under \"Runtime > Change Runtime Type\""
      ]
    },
    {
      "cell_type": "code",
      "metadata": {
        "id": "KdJQMctTZyJh",
        "colab": {
          "base_uri": "https://localhost:8080/"
        },
        "outputId": "623163ec-6fb4-44cc-bddb-09942f3f50eb"
      },
      "source": [
        "!nvidia-smi"
      ],
      "execution_count": null,
      "outputs": [
        {
          "output_type": "stream",
          "text": [
            "Mon May  3 01:29:37 2021       \n",
            "+-----------------------------------------------------------------------------+\n",
            "| NVIDIA-SMI 465.19.01    Driver Version: 460.32.03    CUDA Version: 11.2     |\n",
            "|-------------------------------+----------------------+----------------------+\n",
            "| GPU  Name        Persistence-M| Bus-Id        Disp.A | Volatile Uncorr. ECC |\n",
            "| Fan  Temp  Perf  Pwr:Usage/Cap|         Memory-Usage | GPU-Util  Compute M. |\n",
            "|                               |                      |               MIG M. |\n",
            "|===============================+======================+======================|\n",
            "|   0  Tesla V100-SXM2...  Off  | 00000000:00:04.0 Off |                    0 |\n",
            "| N/A   34C    P0    23W / 300W |      0MiB / 16160MiB |      0%      Default |\n",
            "|                               |                      |                  N/A |\n",
            "+-------------------------------+----------------------+----------------------+\n",
            "                                                                               \n",
            "+-----------------------------------------------------------------------------+\n",
            "| Processes:                                                                  |\n",
            "|  GPU   GI   CI        PID   Type   Process name                  GPU Memory |\n",
            "|        ID   ID                                                   Usage      |\n",
            "|=============================================================================|\n",
            "|  No running processes found                                                 |\n",
            "+-----------------------------------------------------------------------------+\n"
          ],
          "name": "stdout"
        }
      ]
    },
    {
      "cell_type": "code",
      "metadata": {
        "colab": {
          "base_uri": "https://localhost:8080/"
        },
        "id": "ABbotA5aEFco",
        "outputId": "9160b09d-6689-4eec-b92b-7a391e41d038"
      },
      "source": [
        "!git clone https://github.com/NVlabs/stylegan2-ada.git\n",
        "%cd stylegan2-ada"
      ],
      "execution_count": null,
      "outputs": [
        {
          "output_type": "stream",
          "text": [
            "Cloning into 'stylegan2-ada'...\n",
            "remote: Enumerating objects: 71, done.\u001b[K\n",
            "remote: Total 71 (delta 0), reused 0 (delta 0), pack-reused 71\u001b[K\n",
            "Unpacking objects: 100% (71/71), done.\n",
            "/content/stylegan2-ada\n"
          ],
          "name": "stdout"
        }
      ]
    },
    {
      "cell_type": "code",
      "metadata": {
        "colab": {
          "base_uri": "https://localhost:8080/"
        },
        "id": "98NV3QCbFYOs",
        "outputId": "74edc513-4dd5-428e-b1d3-aaf92e2fe06d"
      },
      "source": [
        "from google.colab import drive\n",
        "drive.mount('/content/drive')"
      ],
      "execution_count": null,
      "outputs": [
        {
          "output_type": "stream",
          "text": [
            "Mounted at /content/drive\n"
          ],
          "name": "stdout"
        }
      ]
    },
    {
      "cell_type": "code",
      "metadata": {
        "id": "TobAGSjwFeVH",
        "colab": {
          "base_uri": "https://localhost:8080/"
        },
        "outputId": "d6d05fb3-fc66-4cea-9355-07791b7d98c6"
      },
      "source": [
        "%tensorflow_version 1.x"
      ],
      "execution_count": null,
      "outputs": [
        {
          "output_type": "stream",
          "text": [
            "TensorFlow 1.x selected.\n"
          ],
          "name": "stdout"
        }
      ]
    },
    {
      "cell_type": "markdown",
      "metadata": {
        "id": "hzeFNO4YFmTw"
      },
      "source": [
        "# Dataset"
      ]
    },
    {
      "cell_type": "code",
      "metadata": {
        "colab": {
          "base_uri": "https://localhost:8080/"
        },
        "id": "nGcPPwuKI7Nd",
        "outputId": "65888cae-f2f2-4a4b-f9b1-5284cc8ba10c"
      },
      "source": [
        "!gdown https://drive.google.com/u/0/uc?id=1MVs_9UCfdL0It5ZQ4Uixu8UCHHCo3oaX&export=download\n"
      ],
      "execution_count": null,
      "outputs": [
        {
          "output_type": "stream",
          "text": [
            "Downloading...\n",
            "From: https://drive.google.com/u/0/uc?id=1MVs_9UCfdL0It5ZQ4Uixu8UCHHCo3oaX\n",
            "To: /content/stylegan2-ada/pokemon.tar.xz\n",
            "945MB [00:09, 97.5MB/s]\n"
          ],
          "name": "stdout"
        }
      ]
    },
    {
      "cell_type": "code",
      "metadata": {
        "id": "EUuBskb-F_Al"
      },
      "source": [
        "!mkdir pokemon\n",
        "!tar xf pokemon.tar.xz -C ./pokemon"
      ],
      "execution_count": null,
      "outputs": []
    },
    {
      "cell_type": "code",
      "metadata": {
        "colab": {
          "base_uri": "https://localhost:8080/"
        },
        "id": "v384ckp7JmTL",
        "outputId": "0ee0618b-bd38-4531-ee79-7ba5c48c4574"
      },
      "source": [
        "!python dataset_tool.py create_from_images ../drive/My\\ Drive/stylegan2-pokemon/dataset/ ./pokemon"
      ],
      "execution_count": null,
      "outputs": [
        {
          "output_type": "stream",
          "text": [
            "Loading images from \"./pokemon\"\n",
            "Creating dataset \"../drive/My Drive/stylegan2-pokemon/dataset/\"\n",
            "0 / 4835\rdataset_tool.py:96: DeprecationWarning: tostring() is deprecated. Use tobytes() instead.\n",
            "  'data': tf.train.Feature(bytes_list=tf.train.BytesList(value=[quant.tostring()]))}))\n",
            "Added 4835 images.\n"
          ],
          "name": "stdout"
        }
      ]
    },
    {
      "cell_type": "code",
      "metadata": {
        "colab": {
          "base_uri": "https://localhost:8080/"
        },
        "id": "7B3AztKBFwED",
        "outputId": "38642358-3076-4c85-a6a3-9ef6b48c1db3"
      },
      "source": [
        "!mkdir dataset\n",
        "!python dataset_tool.py create_from_images ./dataset ./pokemon"
      ],
      "execution_count": null,
      "outputs": [
        {
          "output_type": "stream",
          "text": [
            "Loading images from \"./pokemon\"\n",
            "Creating dataset \"./dataset\"\n",
            "0 / 4835\rdataset_tool.py:96: DeprecationWarning: tostring() is deprecated. Use tobytes() instead.\n",
            "  'data': tf.train.Feature(bytes_list=tf.train.BytesList(value=[quant.tostring()]))}))\n",
            "Added 4835 images.\n"
          ],
          "name": "stdout"
        }
      ]
    },
    {
      "cell_type": "markdown",
      "metadata": {
        "id": "6x1cZXG7KQjv"
      },
      "source": [
        "# Training"
      ]
    },
    {
      "cell_type": "code",
      "metadata": {
        "id": "T2aPhwZYMfxQ"
      },
      "source": [
        "!mkdir training-runs"
      ],
      "execution_count": null,
      "outputs": []
    },
    {
      "cell_type": "code",
      "metadata": {
        "colab": {
          "base_uri": "https://localhost:8080/"
        },
        "id": "4vY3vbxoCDYQ",
        "outputId": "287c77f5-2382-43ef-b590-043a4aff0123"
      },
      "source": [
        "%ls"
      ],
      "execution_count": null,
      "outputs": [
        {
          "output_type": "stream",
          "text": [
            "\u001b[0m\u001b[01;32mcalc_metrics.py\u001b[0m*  \u001b[01;32mDockerfile\u001b[0m*   \u001b[01;32mLICENSE.txt\u001b[0m*   \u001b[01;32mREADME.md\u001b[0m*        \u001b[01;32mtrain.py\u001b[0m*\n",
            "\u001b[01;32mdataset_tool.py\u001b[0m*  \u001b[01;34mdocs\u001b[0m/         \u001b[01;34mmetrics\u001b[0m/       \u001b[01;32mstyle_mixing.py\u001b[0m*\n",
            "\u001b[01;34mdnnlib\u001b[0m/           \u001b[01;32mgenerate.py\u001b[0m*  \u001b[01;32mprojector.py\u001b[0m*  \u001b[01;34mtraining\u001b[0m/\n"
          ],
          "name": "stdout"
        }
      ]
    },
    {
      "cell_type": "code",
      "metadata": {
        "colab": {
          "base_uri": "https://localhost:8080/"
        },
        "id": "RRU1-Ce6KTNC",
        "outputId": "a6beca0e-903e-4d80-95fe-82a3ed56fcd6"
      },
      "source": [
        "!python train.py --outdir=../drive/My\\ Drive/stylegan2-pokemon/training-runs \\\n",
        "                --gpus=1 \\\n",
        "                --data=../drive/My\\ Drive/stylegan2-pokemon/dataset \\\n",
        "                --cfg=auto \\\n",
        "                --metrics none \\\n",
        "                --mirror=1 \\\n",
        "                --resume=../drive/My\\ Drive/stylegan2-pokemon/training-runs/00006-dataset-mirror-auto1-resumecustom/network-snapshot-002822.pkl"
      ],
      "execution_count": null,
      "outputs": [
        {
          "output_type": "stream",
          "text": [
            "tcmalloc: large alloc 4294967296 bytes == 0x5592ec240000 @  0x7fb2117e0001 0x7fb20ea2354f 0x7fb20ea73b58 0x7fb20ea77b17 0x7fb20eb16203 0x5592e49440e4 0x5592e4943de0 0x5592e49b86f5 0x5592e49b2e0d 0x5592e494602c 0x5592e4986d39 0x5592e4983c84 0x5592e49448e9 0x5592e49b8ade 0x5592e49b2b0e 0x5592e4884e2b 0x5592e49b51e6 0x5592e49b2b0e 0x5592e4884e2b 0x5592e49b51e6 0x5592e49b2e0d 0x5592e4884e2b 0x5592e49b51e6 0x5592e494569a 0x5592e49b3a45 0x5592e49b2b0e 0x5592e49b2813 0x5592e4a7c592 0x5592e4a7c90d 0x5592e4a7c7b6 0x5592e4a54103\n",
            "tcmalloc: large alloc 4294967296 bytes == 0x5593ec240000 @  0x7fb2117de1e7 0x7fb20ea2346e 0x7fb20ea73c7b 0x7fb20ea7435f 0x7fb20eb16103 0x5592e49440e4 0x5592e4943de0 0x5592e49b86f5 0x5592e49b2b0e 0x5592e494577a 0x5592e49b486a 0x5592e49b2b0e 0x5592e494577a 0x5592e49b486a 0x5592e49b2b0e 0x5592e494577a 0x5592e49b486a 0x5592e494569a 0x5592e49b3a45 0x5592e49b2b0e 0x5592e494577a 0x5592e49b7e50 0x5592e49b2b0e 0x5592e494577a 0x5592e49b486a 0x5592e49b2e0d 0x5592e494602c 0x5592e4986d39 0x5592e4983c84 0x5592e49448e9 0x5592e49b8ade\n",
            "tcmalloc: large alloc 4294967296 bytes == 0x5594ed52a000 @  0x7fb2117de1e7 0x7fb20ea2346e 0x7fb20ea73c7b 0x7fb20ea7435f 0x7fb1ba3e3235 0x7fb1b9d66792 0x7fb1b9d66d42 0x7fb1b9d1faee 0x5592e4943fd7 0x5592e4943de0 0x5592e49b8244 0x5592e494569a 0x5592e49b3c9e 0x5592e49b2e0d 0x5592e4884eb0 0x5592e49b51e6 0x5592e49b2b0e 0x5592e494577a 0x5592e49b3c9e 0x5592e49b2e0d 0x5592e494577a 0x5592e49b3c9e 0x5592e494569a 0x5592e49b3c9e 0x5592e49b2b0e 0x5592e4945e11 0x5592e4946231 0x5592e49b51e6 0x5592e49b2b0e 0x5592e494577a 0x5592e49b3a45\n",
            "\n",
            "Training options:\n",
            "{\n",
            "  \"G_args\": {\n",
            "    \"func_name\": \"training.networks.G_main\",\n",
            "    \"fmap_base\": 8192,\n",
            "    \"fmap_max\": 512,\n",
            "    \"mapping_layers\": 2,\n",
            "    \"num_fp16_res\": 4,\n",
            "    \"conv_clamp\": 256\n",
            "  },\n",
            "  \"D_args\": {\n",
            "    \"func_name\": \"training.networks.D_main\",\n",
            "    \"mbstd_group_size\": 4,\n",
            "    \"fmap_base\": 8192,\n",
            "    \"fmap_max\": 512,\n",
            "    \"num_fp16_res\": 4,\n",
            "    \"conv_clamp\": 256\n",
            "  },\n",
            "  \"G_opt_args\": {\n",
            "    \"beta1\": 0.0,\n",
            "    \"beta2\": 0.99,\n",
            "    \"learning_rate\": 0.0025\n",
            "  },\n",
            "  \"D_opt_args\": {\n",
            "    \"beta1\": 0.0,\n",
            "    \"beta2\": 0.99,\n",
            "    \"learning_rate\": 0.0025\n",
            "  },\n",
            "  \"loss_args\": {\n",
            "    \"func_name\": \"training.loss.stylegan2\",\n",
            "    \"r1_gamma\": 0.8192\n",
            "  },\n",
            "  \"augment_args\": {\n",
            "    \"class_name\": \"training.augment.AdaptiveAugment\",\n",
            "    \"tune_heuristic\": \"rt\",\n",
            "    \"tune_target\": 0.6,\n",
            "    \"apply_func\": \"training.augment.augment_pipeline\",\n",
            "    \"apply_args\": {\n",
            "      \"xflip\": 1,\n",
            "      \"rotate90\": 1,\n",
            "      \"xint\": 1,\n",
            "      \"scale\": 1,\n",
            "      \"rotate\": 1,\n",
            "      \"aniso\": 1,\n",
            "      \"xfrac\": 1,\n",
            "      \"brightness\": 1,\n",
            "      \"contrast\": 1,\n",
            "      \"lumaflip\": 1,\n",
            "      \"hue\": 1,\n",
            "      \"saturation\": 1\n",
            "    },\n",
            "    \"tune_kimg\": 100\n",
            "  },\n",
            "  \"num_gpus\": 1,\n",
            "  \"image_snapshot_ticks\": 50,\n",
            "  \"network_snapshot_ticks\": 50,\n",
            "  \"train_dataset_args\": {\n",
            "    \"path\": \"../drive/My Drive/stylegan2-pokemon/dataset\",\n",
            "    \"max_label_size\": 0,\n",
            "    \"resolution\": 256,\n",
            "    \"mirror_augment\": true\n",
            "  },\n",
            "  \"metric_arg_list\": [],\n",
            "  \"metric_dataset_args\": {\n",
            "    \"path\": \"../drive/My Drive/stylegan2-pokemon/dataset\",\n",
            "    \"max_label_size\": 0,\n",
            "    \"resolution\": 256,\n",
            "    \"mirror_augment\": true\n",
            "  },\n",
            "  \"total_kimg\": 25000,\n",
            "  \"minibatch_size\": 16,\n",
            "  \"minibatch_gpu\": 16,\n",
            "  \"G_smoothing_kimg\": 5.0,\n",
            "  \"G_smoothing_rampup\": null,\n",
            "  \"resume_pkl\": \"../drive/My Drive/stylegan2-pokemon/training-runs/00006-dataset-mirror-auto1-resumecustom/network-snapshot-002822.pkl\",\n",
            "  \"run_dir\": \"../drive/My Drive/stylegan2-pokemon/training-runs/00007-dataset-mirror-auto1-resumecustom\"\n",
            "}\n",
            "\n",
            "Output directory:  ../drive/My Drive/stylegan2-pokemon/training-runs/00007-dataset-mirror-auto1-resumecustom\n",
            "Training data:     ../drive/My Drive/stylegan2-pokemon/dataset\n",
            "Training length:   25000 kimg\n",
            "Resolution:        256\n",
            "Number of GPUs:    1\n",
            "\n",
            "Creating output directory...\n",
            "Loading training set...\n",
            "tcmalloc: large alloc 4294967296 bytes == 0x5592ec240000 @  0x7fb2117e0001 0x7fb20ea2354f 0x7fb20ea73b58 0x7fb20ea77b17 0x7fb20eb16203 0x5592e49440e4 0x5592e4943de0 0x5592e49b86f5 0x5592e49b2e0d 0x5592e494602c 0x5592e4986d39 0x5592e4983c84 0x5592e49448e9 0x5592e49b8ade 0x5592e49b2b0e 0x5592e4884e2b 0x5592e49b51e6 0x5592e49b2b0e 0x5592e4884e2b 0x5592e49b51e6 0x5592e49b2e0d 0x5592e4884e2b 0x5592e49b51e6 0x5592e494569a 0x5592e49b3a45 0x5592e49b2b0e 0x5592e49b2813 0x5592e4a7c592 0x5592e4a7c90d 0x5592e4a7c7b6 0x5592e4a54103\n",
            "tcmalloc: large alloc 4294967296 bytes == 0x5595ed52a000 @  0x7fb2117de1e7 0x7fb20ea2346e 0x7fb20ea73c7b 0x7fb20ea7435f 0x7fb20eb16103 0x5592e49440e4 0x5592e4943de0 0x5592e49b86f5 0x5592e49b2b0e 0x5592e494577a 0x5592e49b486a 0x5592e49b2b0e 0x5592e494577a 0x5592e49b486a 0x5592e49b2b0e 0x5592e494577a 0x5592e49b486a 0x5592e494569a 0x5592e49b3a45 0x5592e49b2b0e 0x5592e494577a 0x5592e49b7e50 0x5592e49b2b0e 0x5592e494577a 0x5592e49b486a 0x5592e49b2e0d 0x5592e494602c 0x5592e4986d39 0x5592e4983c84 0x5592e49448e9 0x5592e49b8ade\n",
            "tcmalloc: large alloc 4294967296 bytes == 0x5595ed52a000 @  0x7fb2117de1e7 0x7fb20ea2346e 0x7fb20ea73c7b 0x7fb20ea7435f 0x7fb1ba3e3235 0x7fb1b9d66792 0x7fb1b9d66d42 0x7fb1b9d1faee 0x5592e4943fd7 0x5592e4943de0 0x5592e49b8244 0x5592e494569a 0x5592e49b3c9e 0x5592e49b2e0d 0x5592e4884eb0 0x5592e49b51e6 0x5592e49b2b0e 0x5592e494577a 0x5592e49b3c9e 0x5592e49b2e0d 0x5592e494577a 0x5592e49b3c9e 0x5592e494569a 0x5592e49b3c9e 0x5592e49b2b0e 0x5592e4945e11 0x5592e4946231 0x5592e49b51e6 0x5592e49b2b0e 0x5592e494577a 0x5592e49b3a45\n",
            "Image shape: [3, 256, 256]\n",
            "Label shape: [0]\n",
            "\n",
            "Constructing networks...\n",
            "Setting up TensorFlow plugin \"fused_bias_act.cu\": Compiling... Loading... Done.\n",
            "Setting up TensorFlow plugin \"upfirdn_2d.cu\": Compiling... Loading... Done.\n",
            "Resuming from \"../drive/My Drive/stylegan2-pokemon/training-runs/00006-dataset-mirror-auto1-resumecustom/network-snapshot-002822.pkl\"\n",
            "\n",
            "G                             Params    OutputShape         WeightShape     \n",
            "---                           ---       ---                 ---             \n",
            "latents_in                    -         (?, 512)            -               \n",
            "labels_in                     -         (?, 0)              -               \n",
            "G_mapping/Normalize           -         (?, 512)            -               \n",
            "G_mapping/Dense0              262656    (?, 512)            (512, 512)      \n",
            "G_mapping/Dense1              262656    (?, 512)            (512, 512)      \n",
            "G_mapping/Broadcast           -         (?, 14, 512)        -               \n",
            "dlatent_avg                   -         (512,)              -               \n",
            "Truncation/Lerp               -         (?, 14, 512)        -               \n",
            "G_synthesis/4x4/Const         8192      (?, 512, 4, 4)      (1, 512, 4, 4)  \n",
            "G_synthesis/4x4/Conv          2622465   (?, 512, 4, 4)      (3, 3, 512, 512)\n",
            "G_synthesis/4x4/ToRGB         264195    (?, 3, 4, 4)        (1, 1, 512, 3)  \n",
            "G_synthesis/8x8/Conv0_up      2622465   (?, 512, 8, 8)      (3, 3, 512, 512)\n",
            "G_synthesis/8x8/Conv1         2622465   (?, 512, 8, 8)      (3, 3, 512, 512)\n",
            "G_synthesis/8x8/Upsample      -         (?, 3, 8, 8)        -               \n",
            "G_synthesis/8x8/ToRGB         264195    (?, 3, 8, 8)        (1, 1, 512, 3)  \n",
            "G_synthesis/16x16/Conv0_up    2622465   (?, 512, 16, 16)    (3, 3, 512, 512)\n",
            "G_synthesis/16x16/Conv1       2622465   (?, 512, 16, 16)    (3, 3, 512, 512)\n",
            "G_synthesis/16x16/Upsample    -         (?, 3, 16, 16)      -               \n",
            "G_synthesis/16x16/ToRGB       264195    (?, 3, 16, 16)      (1, 1, 512, 3)  \n",
            "G_synthesis/32x32/Conv0_up    2622465   (?, 512, 32, 32)    (3, 3, 512, 512)\n",
            "G_synthesis/32x32/Conv1       2622465   (?, 512, 32, 32)    (3, 3, 512, 512)\n",
            "G_synthesis/32x32/Upsample    -         (?, 3, 32, 32)      -               \n",
            "G_synthesis/32x32/ToRGB       264195    (?, 3, 32, 32)      (1, 1, 512, 3)  \n",
            "G_synthesis/64x64/Conv0_up    1442561   (?, 256, 64, 64)    (3, 3, 512, 256)\n",
            "G_synthesis/64x64/Conv1       721409    (?, 256, 64, 64)    (3, 3, 256, 256)\n",
            "G_synthesis/64x64/Upsample    -         (?, 3, 64, 64)      -               \n",
            "G_synthesis/64x64/ToRGB       132099    (?, 3, 64, 64)      (1, 1, 256, 3)  \n",
            "G_synthesis/128x128/Conv0_up  426369    (?, 128, 128, 128)  (3, 3, 256, 128)\n",
            "G_synthesis/128x128/Conv1     213249    (?, 128, 128, 128)  (3, 3, 128, 128)\n",
            "G_synthesis/128x128/Upsample  -         (?, 3, 128, 128)    -               \n",
            "G_synthesis/128x128/ToRGB     66051     (?, 3, 128, 128)    (1, 1, 128, 3)  \n",
            "G_synthesis/256x256/Conv0_up  139457    (?, 64, 256, 256)   (3, 3, 128, 64) \n",
            "G_synthesis/256x256/Conv1     69761     (?, 64, 256, 256)   (3, 3, 64, 64)  \n",
            "G_synthesis/256x256/Upsample  -         (?, 3, 256, 256)    -               \n",
            "G_synthesis/256x256/ToRGB     33027     (?, 3, 256, 256)    (1, 1, 64, 3)   \n",
            "---                           ---       ---                 ---             \n",
            "Total                         23191522                                      \n",
            "\n",
            "\n",
            "D                    Params    OutputShape         WeightShape     \n",
            "---                  ---       ---                 ---             \n",
            "images_in            -         (?, 3, 256, 256)    -               \n",
            "labels_in            -         (?, 0)              -               \n",
            "256x256/FromRGB      256       (?, 64, 256, 256)   (1, 1, 3, 64)   \n",
            "256x256/Conv0        36928     (?, 64, 256, 256)   (3, 3, 64, 64)  \n",
            "256x256/Conv1_down   73856     (?, 128, 128, 128)  (3, 3, 64, 128) \n",
            "256x256/Skip         8192      (?, 128, 128, 128)  (1, 1, 64, 128) \n",
            "128x128/Conv0        147584    (?, 128, 128, 128)  (3, 3, 128, 128)\n",
            "128x128/Conv1_down   295168    (?, 256, 64, 64)    (3, 3, 128, 256)\n",
            "128x128/Skip         32768     (?, 256, 64, 64)    (1, 1, 128, 256)\n",
            "64x64/Conv0          590080    (?, 256, 64, 64)    (3, 3, 256, 256)\n",
            "64x64/Conv1_down     1180160   (?, 512, 32, 32)    (3, 3, 256, 512)\n",
            "64x64/Skip           131072    (?, 512, 32, 32)    (1, 1, 256, 512)\n",
            "32x32/Conv0          2359808   (?, 512, 32, 32)    (3, 3, 512, 512)\n",
            "32x32/Conv1_down     2359808   (?, 512, 16, 16)    (3, 3, 512, 512)\n",
            "32x32/Skip           262144    (?, 512, 16, 16)    (1, 1, 512, 512)\n",
            "16x16/Conv0          2359808   (?, 512, 16, 16)    (3, 3, 512, 512)\n",
            "16x16/Conv1_down     2359808   (?, 512, 8, 8)      (3, 3, 512, 512)\n",
            "16x16/Skip           262144    (?, 512, 8, 8)      (1, 1, 512, 512)\n",
            "8x8/Conv0            2359808   (?, 512, 8, 8)      (3, 3, 512, 512)\n",
            "8x8/Conv1_down       2359808   (?, 512, 4, 4)      (3, 3, 512, 512)\n",
            "8x8/Skip             262144    (?, 512, 4, 4)      (1, 1, 512, 512)\n",
            "4x4/MinibatchStddev  -         (?, 513, 4, 4)      -               \n",
            "4x4/Conv             2364416   (?, 512, 4, 4)      (3, 3, 513, 512)\n",
            "4x4/Dense0           4194816   (?, 512)            (8192, 512)     \n",
            "Output               513       (?, 1)              (512, 1)        \n",
            "---                  ---       ---                 ---             \n",
            "Total                24001089                                      \n",
            "\n",
            "Exporting sample images...\n",
            "Replicating networks across 1 GPUs...\n",
            "Initializing augmentations...\n",
            "Setting up optimizers...\n",
            "Constructing training graph...\n",
            "Finalizing training ops...\n",
            "Initializing metrics...\n",
            "Training for 25000 kimg...\n",
            "\n",
            "tick 0     kimg 0.1      time 2m 03s       sec/tick 15.0    sec/kimg 234.33  maintenance 108.5  gpumem 7.3   augment 0.001\n",
            "tick 1     kimg 4.1      time 4m 07s       sec/tick 97.6    sec/kimg 24.21   maintenance 25.5   gpumem 7.3   augment 0.027\n",
            "tick 2     kimg 8.1      time 5m 45s       sec/tick 98.1    sec/kimg 24.34   maintenance 0.0    gpumem 7.3   augment 0.063\n",
            "tick 3     kimg 12.2     time 7m 23s       sec/tick 98.4    sec/kimg 24.41   maintenance 0.0    gpumem 7.3   augment 0.082\n",
            "tick 4     kimg 16.2     time 9m 02s       sec/tick 98.6    sec/kimg 24.46   maintenance 0.0    gpumem 7.3   augment 0.120\n",
            "tick 5     kimg 20.2     time 10m 40s      sec/tick 98.6    sec/kimg 24.46   maintenance 0.0    gpumem 7.3   augment 0.151\n",
            "tick 6     kimg 24.3     time 12m 19s      sec/tick 99.0    sec/kimg 24.56   maintenance 0.0    gpumem 7.3   augment 0.185\n",
            "tick 7     kimg 28.3     time 13m 59s      sec/tick 99.1    sec/kimg 24.58   maintenance 0.0    gpumem 7.3   augment 0.207\n",
            "tick 8     kimg 32.3     time 15m 38s      sec/tick 99.1    sec/kimg 24.59   maintenance 0.0    gpumem 7.3   augment 0.200\n",
            "tick 9     kimg 36.4     time 17m 17s      sec/tick 99.1    sec/kimg 24.57   maintenance 0.0    gpumem 7.3   augment 0.200\n",
            "tick 10    kimg 40.4     time 18m 56s      sec/tick 99.1    sec/kimg 24.59   maintenance 0.0    gpumem 7.3   augment 0.196\n",
            "tick 11    kimg 44.4     time 20m 35s      sec/tick 99.0    sec/kimg 24.56   maintenance 0.0    gpumem 7.3   augment 0.178\n",
            "tick 12    kimg 48.4     time 22m 14s      sec/tick 98.9    sec/kimg 24.53   maintenance 0.0    gpumem 7.3   augment 0.157\n",
            "tick 13    kimg 52.5     time 23m 53s      sec/tick 98.8    sec/kimg 24.50   maintenance 0.0    gpumem 7.3   augment 0.186\n",
            "tick 14    kimg 56.5     time 25m 32s      sec/tick 99.1    sec/kimg 24.57   maintenance 0.0    gpumem 7.3   augment 0.218\n",
            "tick 15    kimg 60.5     time 27m 11s      sec/tick 99.3    sec/kimg 24.62   maintenance 0.0    gpumem 7.3   augment 0.256\n",
            "tick 16    kimg 64.6     time 28m 50s      sec/tick 99.4    sec/kimg 24.65   maintenance 0.0    gpumem 7.3   augment 0.294\n",
            "tick 17    kimg 68.6     time 30m 30s      sec/tick 99.4    sec/kimg 24.66   maintenance 0.0    gpumem 7.3   augment 0.329\n",
            "tick 18    kimg 72.6     time 32m 09s      sec/tick 99.6    sec/kimg 24.70   maintenance 0.0    gpumem 7.3   augment 0.363\n",
            "tick 19    kimg 76.7     time 33m 49s      sec/tick 99.9    sec/kimg 24.77   maintenance 0.0    gpumem 7.3   augment 0.402\n",
            "tick 20    kimg 80.7     time 35m 29s      sec/tick 99.9    sec/kimg 24.79   maintenance 0.0    gpumem 7.3   augment 0.437\n",
            "tick 21    kimg 84.7     time 37m 09s      sec/tick 100.0   sec/kimg 24.79   maintenance 0.0    gpumem 7.3   augment 0.472\n",
            "tick 22    kimg 88.8     time 38m 50s      sec/tick 100.3   sec/kimg 24.88   maintenance 0.0    gpumem 7.3   augment 0.509\n",
            "tick 23    kimg 92.8     time 40m 30s      sec/tick 100.3   sec/kimg 24.89   maintenance 0.0    gpumem 7.3   augment 0.543\n",
            "tick 24    kimg 96.8     time 42m 10s      sec/tick 100.5   sec/kimg 24.94   maintenance 0.0    gpumem 7.3   augment 0.565\n",
            "tick 25    kimg 100.9    time 43m 51s      sec/tick 100.5   sec/kimg 24.92   maintenance 0.0    gpumem 7.3   augment 0.575\n",
            "tick 26    kimg 104.9    time 45m 31s      sec/tick 100.4   sec/kimg 24.90   maintenance 0.0    gpumem 7.3   augment 0.534\n",
            "tick 27    kimg 108.9    time 47m 12s      sec/tick 100.3   sec/kimg 24.88   maintenance 0.0    gpumem 7.3   augment 0.494\n",
            "tick 28    kimg 113.0    time 48m 52s      sec/tick 100.2   sec/kimg 24.86   maintenance 0.0    gpumem 7.3   augment 0.479\n",
            "tick 29    kimg 117.0    time 50m 32s      sec/tick 100.2   sec/kimg 24.85   maintenance 0.0    gpumem 7.3   augment 0.516\n",
            "tick 30    kimg 121.0    time 52m 13s      sec/tick 100.4   sec/kimg 24.90   maintenance 0.0    gpumem 7.3   augment 0.551\n",
            "tick 31    kimg 125.1    time 53m 53s      sec/tick 100.5   sec/kimg 24.93   maintenance 0.0    gpumem 7.3   augment 0.590\n",
            "tick 32    kimg 129.1    time 55m 34s      sec/tick 100.7   sec/kimg 24.97   maintenance 0.0    gpumem 7.3   augment 0.623\n",
            "tick 33    kimg 133.1    time 57m 14s      sec/tick 100.7   sec/kimg 24.97   maintenance 0.0    gpumem 7.3   augment 0.663\n",
            "tick 34    kimg 137.2    time 58m 55s      sec/tick 101.0   sec/kimg 25.05   maintenance 0.0    gpumem 7.3   augment 0.701\n",
            "tick 35    kimg 141.2    time 1h 00m 37s   sec/tick 101.1   sec/kimg 25.06   maintenance 0.0    gpumem 7.3   augment 0.737\n",
            "tick 36    kimg 145.2    time 1h 02m 18s   sec/tick 101.3   sec/kimg 25.12   maintenance 0.0    gpumem 7.3   augment 0.770\n",
            "tick 37    kimg 149.2    time 1h 03m 59s   sec/tick 101.2   sec/kimg 25.11   maintenance 0.0    gpumem 7.3   augment 0.804\n",
            "tick 38    kimg 153.3    time 1h 05m 40s   sec/tick 101.4   sec/kimg 25.15   maintenance 0.0    gpumem 7.3   augment 0.843\n",
            "tick 39    kimg 157.3    time 1h 07m 22s   sec/tick 101.6   sec/kimg 25.21   maintenance 0.0    gpumem 7.3   augment 0.878\n",
            "tick 40    kimg 161.3    time 1h 09m 04s   sec/tick 101.7   sec/kimg 25.23   maintenance 0.0    gpumem 7.3   augment 0.912\n",
            "tick 41    kimg 165.4    time 1h 10m 46s   sec/tick 101.6   sec/kimg 25.21   maintenance 0.0    gpumem 7.3   augment 0.945\n",
            "tick 42    kimg 169.4    time 1h 12m 27s   sec/tick 101.9   sec/kimg 25.28   maintenance 0.0    gpumem 7.3   augment 0.984\n",
            "tick 43    kimg 173.4    time 1h 14m 10s   sec/tick 102.1   sec/kimg 25.32   maintenance 0.0    gpumem 7.3   augment 1.018\n",
            "tick 44    kimg 177.5    time 1h 15m 52s   sec/tick 102.0   sec/kimg 25.29   maintenance 0.0    gpumem 7.3   augment 1.055\n",
            "tick 45    kimg 181.5    time 1h 17m 33s   sec/tick 101.9   sec/kimg 25.27   maintenance 0.0    gpumem 7.3   augment 1.091\n",
            "tick 46    kimg 185.5    time 1h 19m 16s   sec/tick 102.0   sec/kimg 25.31   maintenance 0.0    gpumem 7.3   augment 1.123\n",
            "tick 47    kimg 189.6    time 1h 20m 58s   sec/tick 102.1   sec/kimg 25.33   maintenance 0.0    gpumem 7.3   augment 1.126\n",
            "tick 48    kimg 193.6    time 1h 22m 40s   sec/tick 102.1   sec/kimg 25.33   maintenance 0.0    gpumem 7.3   augment 1.165\n",
            "tick 49    kimg 197.6    time 1h 24m 22s   sec/tick 102.1   sec/kimg 25.31   maintenance 0.0    gpumem 7.3   augment 1.203\n",
            "tick 50    kimg 201.7    time 1h 26m 04s   sec/tick 102.0   sec/kimg 25.31   maintenance 0.0    gpumem 7.3   augment 1.172\n",
            "tick 51    kimg 205.7    time 1h 28m 01s   sec/tick 102.3   sec/kimg 25.36   maintenance 15.1   gpumem 7.3   augment 1.193\n",
            "tick 52    kimg 209.7    time 1h 29m 43s   sec/tick 102.1   sec/kimg 25.33   maintenance 0.0    gpumem 7.3   augment 1.183\n",
            "tick 53    kimg 213.8    time 1h 31m 25s   sec/tick 102.0   sec/kimg 25.30   maintenance 0.0    gpumem 7.3   augment 1.215\n",
            "tick 54    kimg 217.8    time 1h 33m 07s   sec/tick 102.0   sec/kimg 25.29   maintenance 0.0    gpumem 7.3   augment 1.250\n",
            "tick 55    kimg 221.8    time 1h 34m 49s   sec/tick 101.9   sec/kimg 25.28   maintenance 0.0    gpumem 7.3   augment 1.290\n",
            "tick 56    kimg 225.9    time 1h 36m 31s   sec/tick 102.0   sec/kimg 25.30   maintenance 0.0    gpumem 7.3   augment 1.320\n",
            "tick 57    kimg 229.9    time 1h 38m 13s   sec/tick 101.8   sec/kimg 25.26   maintenance 0.0    gpumem 7.3   augment 1.322\n",
            "tick 58    kimg 233.9    time 1h 39m 55s   sec/tick 102.0   sec/kimg 25.29   maintenance 0.0    gpumem 7.3   augment 1.359\n",
            "tick 59    kimg 238.0    time 1h 41m 37s   sec/tick 102.1   sec/kimg 25.33   maintenance 0.0    gpumem 7.3   augment 1.395\n",
            "tick 60    kimg 242.0    time 1h 43m 19s   sec/tick 102.0   sec/kimg 25.30   maintenance 0.0    gpumem 7.3   augment 1.430\n",
            "tick 61    kimg 246.0    time 1h 45m 01s   sec/tick 101.9   sec/kimg 25.26   maintenance 0.0    gpumem 7.3   augment 1.467\n",
            "tick 62    kimg 250.0    time 1h 46m 43s   sec/tick 102.0   sec/kimg 25.29   maintenance 0.0    gpumem 7.3   augment 1.506\n",
            "tick 63    kimg 254.1    time 1h 48m 25s   sec/tick 101.7   sec/kimg 25.24   maintenance 0.0    gpumem 7.3   augment 1.503\n",
            "tick 64    kimg 258.1    time 1h 50m 06s   sec/tick 101.5   sec/kimg 25.18   maintenance 0.0    gpumem 7.3   augment 1.462\n",
            "tick 65    kimg 262.1    time 1h 51m 48s   sec/tick 101.4   sec/kimg 25.15   maintenance 0.0    gpumem 7.3   augment 1.422\n",
            "tick 66    kimg 266.2    time 1h 53m 29s   sec/tick 101.6   sec/kimg 25.20   maintenance 0.0    gpumem 7.3   augment 1.382\n",
            "tick 67    kimg 270.2    time 1h 55m 11s   sec/tick 101.6   sec/kimg 25.20   maintenance 0.0    gpumem 7.3   augment 1.341\n",
            "tick 68    kimg 274.2    time 1h 56m 53s   sec/tick 101.7   sec/kimg 25.23   maintenance 0.0    gpumem 7.3   augment 1.304\n",
            "tick 69    kimg 278.3    time 1h 58m 35s   sec/tick 101.8   sec/kimg 25.25   maintenance 0.0    gpumem 7.3   augment 1.309\n",
            "tick 70    kimg 282.3    time 2h 00m 17s   sec/tick 102.0   sec/kimg 25.29   maintenance 0.0    gpumem 7.3   augment 1.338\n",
            "tick 71    kimg 286.3    time 2h 01m 59s   sec/tick 101.9   sec/kimg 25.27   maintenance 0.0    gpumem 7.3   augment 1.361\n",
            "tick 72    kimg 290.4    time 2h 03m 41s   sec/tick 101.9   sec/kimg 25.28   maintenance 0.0    gpumem 7.3   augment 1.395\n",
            "tick 73    kimg 294.4    time 2h 05m 22s   sec/tick 101.8   sec/kimg 25.24   maintenance 0.0    gpumem 7.3   augment 1.380\n",
            "tick 74    kimg 298.4    time 2h 07m 04s   sec/tick 101.7   sec/kimg 25.23   maintenance 0.0    gpumem 7.3   augment 1.340\n",
            "tick 75    kimg 302.5    time 2h 08m 46s   sec/tick 101.9   sec/kimg 25.27   maintenance 0.0    gpumem 7.3   augment 1.329\n",
            "tick 76    kimg 306.5    time 2h 10m 28s   sec/tick 101.9   sec/kimg 25.28   maintenance 0.0    gpumem 7.3   augment 1.356\n",
            "tick 77    kimg 310.5    time 2h 12m 10s   sec/tick 101.8   sec/kimg 25.25   maintenance 0.0    gpumem 7.3   augment 1.376\n",
            "tick 78    kimg 314.6    time 2h 13m 52s   sec/tick 101.9   sec/kimg 25.28   maintenance 0.0    gpumem 7.3   augment 1.402\n",
            "tick 79    kimg 318.6    time 2h 15m 34s   sec/tick 101.9   sec/kimg 25.27   maintenance 0.0    gpumem 7.3   augment 1.432\n",
            "tick 80    kimg 322.6    time 2h 17m 15s   sec/tick 101.8   sec/kimg 25.24   maintenance 0.0    gpumem 7.3   augment 1.468\n",
            "tick 81    kimg 326.7    time 2h 18m 57s   sec/tick 101.7   sec/kimg 25.21   maintenance 0.0    gpumem 7.3   augment 1.476\n",
            "tick 82    kimg 330.7    time 2h 20m 39s   sec/tick 101.8   sec/kimg 25.25   maintenance 0.0    gpumem 7.3   augment 1.512\n",
            "tick 83    kimg 334.7    time 2h 22m 21s   sec/tick 101.8   sec/kimg 25.25   maintenance 0.0    gpumem 7.3   augment 1.542\n",
            "tick 84    kimg 338.8    time 2h 24m 03s   sec/tick 101.9   sec/kimg 25.27   maintenance 0.0    gpumem 7.3   augment 1.578\n",
            "tick 85    kimg 342.8    time 2h 25m 44s   sec/tick 101.8   sec/kimg 25.25   maintenance 0.0    gpumem 7.3   augment 1.610\n",
            "tick 86    kimg 346.8    time 2h 27m 26s   sec/tick 101.8   sec/kimg 25.25   maintenance 0.0    gpumem 7.3   augment 1.649\n",
            "tick 87    kimg 350.8    time 2h 29m 08s   sec/tick 101.8   sec/kimg 25.25   maintenance 0.0    gpumem 7.3   augment 1.684\n",
            "tick 88    kimg 354.9    time 2h 30m 50s   sec/tick 101.8   sec/kimg 25.25   maintenance 0.0    gpumem 7.3   augment 1.672\n",
            "tick 89    kimg 358.9    time 2h 32m 31s   sec/tick 101.7   sec/kimg 25.21   maintenance 0.0    gpumem 7.3   augment 1.709\n",
            "tick 90    kimg 362.9    time 2h 34m 13s   sec/tick 101.9   sec/kimg 25.26   maintenance 0.0    gpumem 7.3   augment 1.744\n",
            "tick 91    kimg 367.0    time 2h 35m 55s   sec/tick 101.8   sec/kimg 25.26   maintenance 0.0    gpumem 7.3   augment 1.780\n",
            "tick 92    kimg 371.0    time 2h 37m 37s   sec/tick 101.8   sec/kimg 25.24   maintenance 0.0    gpumem 7.3   augment 1.816\n",
            "tick 93    kimg 375.0    time 2h 39m 19s   sec/tick 101.6   sec/kimg 25.21   maintenance 0.0    gpumem 7.3   augment 1.852\n",
            "tick 94    kimg 379.1    time 2h 41m 01s   sec/tick 101.9   sec/kimg 25.28   maintenance 0.0    gpumem 7.3   augment 1.887\n",
            "tick 95    kimg 383.1    time 2h 42m 42s   sec/tick 101.9   sec/kimg 25.27   maintenance 0.0    gpumem 7.3   augment 1.920\n",
            "tick 96    kimg 387.1    time 2h 44m 24s   sec/tick 101.9   sec/kimg 25.26   maintenance 0.0    gpumem 7.3   augment 1.956\n",
            "tick 97    kimg 391.2    time 2h 46m 06s   sec/tick 101.7   sec/kimg 25.23   maintenance 0.0    gpumem 7.3   augment 1.992\n",
            "tick 98    kimg 395.2    time 2h 47m 48s   sec/tick 101.8   sec/kimg 25.24   maintenance 0.0    gpumem 7.3   augment 2.028\n",
            "tick 99    kimg 399.2    time 2h 49m 29s   sec/tick 101.5   sec/kimg 25.16   maintenance 0.0    gpumem 7.3   augment 1.989\n",
            "tick 100   kimg 403.3    time 2h 51m 11s   sec/tick 101.4   sec/kimg 25.15   maintenance 0.0    gpumem 7.3   augment 1.949\n",
            "tick 101   kimg 407.3    time 2h 53m 03s   sec/tick 101.3   sec/kimg 25.11   maintenance 10.8   gpumem 7.3   augment 1.908\n",
            "tick 102   kimg 411.3    time 2h 54m 44s   sec/tick 101.4   sec/kimg 25.15   maintenance 0.0    gpumem 7.3   augment 1.868\n",
            "tick 103   kimg 415.4    time 2h 56m 26s   sec/tick 101.4   sec/kimg 25.16   maintenance 0.0    gpumem 7.3   augment 1.828\n",
            "tick 104   kimg 419.4    time 2h 58m 07s   sec/tick 101.5   sec/kimg 25.16   maintenance 0.0    gpumem 7.3   augment 1.789\n",
            "tick 105   kimg 423.4    time 2h 59m 48s   sec/tick 101.2   sec/kimg 25.10   maintenance 0.0    gpumem 7.3   augment 1.750\n",
            "tick 106   kimg 427.5    time 3h 01m 30s   sec/tick 101.4   sec/kimg 25.16   maintenance 0.0    gpumem 7.3   augment 1.709\n",
            "tick 107   kimg 431.5    time 3h 03m 11s   sec/tick 101.5   sec/kimg 25.17   maintenance 0.0    gpumem 7.3   augment 1.669\n",
            "tick 108   kimg 435.5    time 3h 04m 53s   sec/tick 101.3   sec/kimg 25.14   maintenance 0.0    gpumem 7.3   augment 1.630\n",
            "tick 109   kimg 439.6    time 3h 06m 34s   sec/tick 101.3   sec/kimg 25.14   maintenance 0.0    gpumem 7.3   augment 1.590\n",
            "tick 110   kimg 443.6    time 3h 08m 15s   sec/tick 101.4   sec/kimg 25.16   maintenance 0.0    gpumem 7.3   augment 1.549\n",
            "tick 111   kimg 447.6    time 3h 09m 57s   sec/tick 101.5   sec/kimg 25.18   maintenance 0.0    gpumem 7.3   augment 1.509\n",
            "tick 112   kimg 451.6    time 3h 11m 38s   sec/tick 101.5   sec/kimg 25.16   maintenance 0.0    gpumem 7.3   augment 1.473\n",
            "tick 113   kimg 455.7    time 3h 13m 20s   sec/tick 101.4   sec/kimg 25.14   maintenance 0.0    gpumem 7.3   augment 1.434\n",
            "tick 114   kimg 459.7    time 3h 15m 01s   sec/tick 101.5   sec/kimg 25.18   maintenance 0.0    gpumem 7.3   augment 1.395\n",
            "tick 115   kimg 463.7    time 3h 16m 43s   sec/tick 101.5   sec/kimg 25.16   maintenance 0.0    gpumem 7.3   augment 1.354\n",
            "tick 116   kimg 467.8    time 3h 18m 24s   sec/tick 101.5   sec/kimg 25.17   maintenance 0.0    gpumem 7.3   augment 1.314\n",
            "tick 117   kimg 471.8    time 3h 20m 06s   sec/tick 101.3   sec/kimg 25.14   maintenance 0.0    gpumem 7.3   augment 1.274\n",
            "tick 118   kimg 475.8    time 3h 21m 47s   sec/tick 101.5   sec/kimg 25.17   maintenance 0.0    gpumem 7.3   augment 1.233\n",
            "tick 119   kimg 479.9    time 3h 23m 29s   sec/tick 101.5   sec/kimg 25.17   maintenance 0.0    gpumem 7.3   augment 1.194\n",
            "tick 120   kimg 483.9    time 3h 25m 10s   sec/tick 101.6   sec/kimg 25.20   maintenance 0.0    gpumem 7.3   augment 1.154\n",
            "tick 121   kimg 487.9    time 3h 26m 52s   sec/tick 101.4   sec/kimg 25.14   maintenance 0.0    gpumem 7.3   augment 1.114\n",
            "tick 122   kimg 492.0    time 3h 28m 33s   sec/tick 101.5   sec/kimg 25.16   maintenance 0.0    gpumem 7.3   augment 1.075\n",
            "tick 123   kimg 496.0    time 3h 30m 15s   sec/tick 101.5   sec/kimg 25.17   maintenance 0.0    gpumem 7.3   augment 1.037\n",
            "tick 124   kimg 500.0    time 3h 31m 56s   sec/tick 101.5   sec/kimg 25.18   maintenance 0.0    gpumem 7.3   augment 0.996\n",
            "tick 125   kimg 504.1    time 3h 33m 37s   sec/tick 101.3   sec/kimg 25.12   maintenance 0.0    gpumem 7.3   augment 0.956\n",
            "tick 126   kimg 508.1    time 3h 35m 19s   sec/tick 101.2   sec/kimg 25.11   maintenance 0.0    gpumem 7.3   augment 0.918\n",
            "tick 127   kimg 512.1    time 3h 37m 00s   sec/tick 101.2   sec/kimg 25.10   maintenance 0.0    gpumem 7.3   augment 0.879\n",
            "tick 128   kimg 516.2    time 3h 38m 41s   sec/tick 101.0   sec/kimg 25.05   maintenance 0.0    gpumem 7.3   augment 0.840\n",
            "tick 129   kimg 520.2    time 3h 40m 22s   sec/tick 100.7   sec/kimg 24.97   maintenance 0.0    gpumem 7.3   augment 0.800\n",
            "tick 130   kimg 524.2    time 3h 42m 02s   sec/tick 100.8   sec/kimg 25.00   maintenance 0.0    gpumem 7.3   augment 0.760\n",
            "tick 131   kimg 528.3    time 3h 43m 43s   sec/tick 100.6   sec/kimg 24.95   maintenance 0.0    gpumem 7.3   augment 0.719\n",
            "tick 132   kimg 532.3    time 3h 45m 24s   sec/tick 100.6   sec/kimg 24.94   maintenance 0.0    gpumem 7.3   augment 0.679\n",
            "tick 133   kimg 536.3    time 3h 47m 04s   sec/tick 100.2   sec/kimg 24.86   maintenance 0.0    gpumem 7.3   augment 0.639\n",
            "tick 134   kimg 540.4    time 3h 48m 44s   sec/tick 100.2   sec/kimg 24.85   maintenance 0.0    gpumem 7.3   augment 0.598\n",
            "tick 135   kimg 544.4    time 3h 50m 24s   sec/tick 100.0   sec/kimg 24.81   maintenance 0.0    gpumem 7.3   augment 0.558\n",
            "tick 136   kimg 548.4    time 3h 52m 04s   sec/tick 100.0   sec/kimg 24.79   maintenance 0.0    gpumem 7.3   augment 0.519\n",
            "tick 137   kimg 552.4    time 3h 53m 44s   sec/tick 99.6    sec/kimg 24.71   maintenance 0.0    gpumem 7.3   augment 0.479\n",
            "tick 138   kimg 556.5    time 3h 55m 23s   sec/tick 99.7    sec/kimg 24.72   maintenance 0.0    gpumem 7.3   augment 0.440\n",
            "tick 139   kimg 560.5    time 3h 57m 03s   sec/tick 99.5    sec/kimg 24.69   maintenance 0.0    gpumem 7.3   augment 0.401\n",
            "tick 140   kimg 564.5    time 3h 58m 42s   sec/tick 99.3    sec/kimg 24.63   maintenance 0.0    gpumem 7.3   augment 0.360\n",
            "tick 141   kimg 568.6    time 4h 00m 21s   sec/tick 99.0    sec/kimg 24.55   maintenance 0.0    gpumem 7.3   augment 0.320\n",
            "tick 142   kimg 572.6    time 4h 02m 00s   sec/tick 99.1    sec/kimg 24.57   maintenance 0.0    gpumem 7.3   augment 0.280\n",
            "tick 143   kimg 576.6    time 4h 03m 39s   sec/tick 98.9    sec/kimg 24.53   maintenance 0.0    gpumem 7.3   augment 0.239\n",
            "tick 144   kimg 580.7    time 4h 05m 18s   sec/tick 98.7    sec/kimg 24.48   maintenance 0.0    gpumem 7.3   augment 0.199\n",
            "tick 145   kimg 584.7    time 4h 06m 56s   sec/tick 98.4    sec/kimg 24.40   maintenance 0.0    gpumem 7.3   augment 0.159\n",
            "tick 146   kimg 588.7    time 4h 08m 35s   sec/tick 98.3    sec/kimg 24.37   maintenance 0.0    gpumem 7.3   augment 0.118\n",
            "tick 147   kimg 592.8    time 4h 10m 13s   sec/tick 98.1    sec/kimg 24.33   maintenance 0.0    gpumem 7.3   augment 0.086\n",
            "tick 148   kimg 596.8    time 4h 11m 51s   sec/tick 97.9    sec/kimg 24.29   maintenance 0.0    gpumem 7.3   augment 0.053\n",
            "tick 149   kimg 600.8    time 4h 13m 28s   sec/tick 97.4    sec/kimg 24.17   maintenance 0.0    gpumem 7.3   augment 0.017\n",
            "tick 150   kimg 604.9    time 4h 15m 05s   sec/tick 97.1    sec/kimg 24.08   maintenance 0.0    gpumem 7.3   augment 0.000\n",
            "tick 151   kimg 608.9    time 4h 16m 53s   sec/tick 97.1    sec/kimg 24.08   maintenance 10.9   gpumem 7.3   augment 0.000\n",
            "tick 152   kimg 612.9    time 4h 18m 30s   sec/tick 97.1    sec/kimg 24.09   maintenance 0.0    gpumem 7.3   augment 0.000\n",
            "tick 153   kimg 617.0    time 4h 20m 07s   sec/tick 97.0    sec/kimg 24.07   maintenance 0.0    gpumem 7.3   augment 0.000\n",
            "tick 154   kimg 621.0    time 4h 21m 45s   sec/tick 97.3    sec/kimg 24.12   maintenance 0.0    gpumem 7.3   augment 0.000\n",
            "tick 155   kimg 625.0    time 4h 23m 22s   sec/tick 97.2    sec/kimg 24.10   maintenance 0.0    gpumem 7.3   augment 0.000\n",
            "tick 156   kimg 629.1    time 4h 24m 59s   sec/tick 97.2    sec/kimg 24.09   maintenance 0.0    gpumem 7.3   augment 0.000\n",
            "tick 157   kimg 633.1    time 4h 26m 36s   sec/tick 97.1    sec/kimg 24.07   maintenance 0.0    gpumem 7.3   augment 0.000\n",
            "tick 158   kimg 637.1    time 4h 28m 13s   sec/tick 97.1    sec/kimg 24.09   maintenance 0.0    gpumem 7.3   augment 0.000\n",
            "tick 159   kimg 641.2    time 4h 29m 50s   sec/tick 97.2    sec/kimg 24.10   maintenance 0.0    gpumem 7.3   augment 0.000\n",
            "tick 160   kimg 645.2    time 4h 31m 28s   sec/tick 97.1    sec/kimg 24.09   maintenance 0.0    gpumem 7.3   augment 0.000\n",
            "tick 161   kimg 649.2    time 4h 33m 05s   sec/tick 97.0    sec/kimg 24.05   maintenance 0.0    gpumem 7.3   augment 0.000\n",
            "tick 162   kimg 653.2    time 4h 34m 42s   sec/tick 97.0    sec/kimg 24.06   maintenance 0.0    gpumem 7.3   augment 0.000\n",
            "tick 163   kimg 657.3    time 4h 36m 19s   sec/tick 97.1    sec/kimg 24.07   maintenance 0.0    gpumem 7.3   augment 0.000\n",
            "tick 164   kimg 661.3    time 4h 37m 56s   sec/tick 97.1    sec/kimg 24.09   maintenance 0.0    gpumem 7.3   augment 0.000\n",
            "tick 165   kimg 665.3    time 4h 39m 33s   sec/tick 96.9    sec/kimg 24.03   maintenance 0.0    gpumem 7.3   augment 0.000\n",
            "tick 166   kimg 669.4    time 4h 41m 10s   sec/tick 97.0    sec/kimg 24.06   maintenance 0.0    gpumem 7.3   augment 0.000\n",
            "tick 167   kimg 673.4    time 4h 42m 47s   sec/tick 97.2    sec/kimg 24.10   maintenance 0.0    gpumem 7.3   augment 0.000\n",
            "tick 168   kimg 677.4    time 4h 44m 24s   sec/tick 97.1    sec/kimg 24.09   maintenance 0.0    gpumem 7.3   augment 0.000\n",
            "tick 169   kimg 681.5    time 4h 46m 01s   sec/tick 97.0    sec/kimg 24.06   maintenance 0.0    gpumem 7.3   augment 0.000\n",
            "tick 170   kimg 685.5    time 4h 47m 38s   sec/tick 97.2    sec/kimg 24.10   maintenance 0.0    gpumem 7.3   augment 0.000\n",
            "tick 171   kimg 689.5    time 4h 49m 15s   sec/tick 97.0    sec/kimg 24.07   maintenance 0.0    gpumem 7.3   augment 0.000\n",
            "tick 172   kimg 693.6    time 4h 50m 52s   sec/tick 97.1    sec/kimg 24.09   maintenance 0.0    gpumem 7.3   augment 0.000\n",
            "tick 173   kimg 697.6    time 4h 52m 29s   sec/tick 97.0    sec/kimg 24.06   maintenance 0.0    gpumem 7.3   augment 0.000\n",
            "tick 174   kimg 701.6    time 4h 54m 07s   sec/tick 97.2    sec/kimg 24.12   maintenance 0.0    gpumem 7.3   augment 0.000\n",
            "tick 175   kimg 705.7    time 4h 55m 44s   sec/tick 97.2    sec/kimg 24.11   maintenance 0.0    gpumem 7.3   augment 0.000\n",
            "tick 176   kimg 709.7    time 4h 57m 21s   sec/tick 97.3    sec/kimg 24.13   maintenance 0.0    gpumem 7.3   augment 0.000\n",
            "tick 177   kimg 713.7    time 4h 58m 58s   sec/tick 97.0    sec/kimg 24.06   maintenance 0.0    gpumem 7.3   augment 0.000\n",
            "tick 178   kimg 717.8    time 5h 00m 36s   sec/tick 97.2    sec/kimg 24.12   maintenance 0.0    gpumem 7.3   augment 0.000\n",
            "tick 179   kimg 721.8    time 5h 02m 13s   sec/tick 97.2    sec/kimg 24.11   maintenance 0.0    gpumem 7.3   augment 0.000\n",
            "tick 180   kimg 725.8    time 5h 03m 50s   sec/tick 97.3    sec/kimg 24.14   maintenance 0.0    gpumem 7.3   augment 0.000\n",
            "tick 181   kimg 729.9    time 5h 05m 27s   sec/tick 97.1    sec/kimg 24.08   maintenance 0.0    gpumem 7.3   augment 0.000\n",
            "tick 182   kimg 733.9    time 5h 07m 04s   sec/tick 97.1    sec/kimg 24.09   maintenance 0.0    gpumem 7.3   augment 0.000\n",
            "tick 183   kimg 737.9    time 5h 08m 41s   sec/tick 97.1    sec/kimg 24.08   maintenance 0.0    gpumem 7.3   augment 0.000\n",
            "tick 184   kimg 742.0    time 5h 10m 19s   sec/tick 97.2    sec/kimg 24.11   maintenance 0.0    gpumem 7.3   augment 0.000\n",
            "tick 185   kimg 746.0    time 5h 11m 56s   sec/tick 97.1    sec/kimg 24.08   maintenance 0.0    gpumem 7.3   augment 0.000\n",
            "tick 186   kimg 750.0    time 5h 13m 33s   sec/tick 97.2    sec/kimg 24.12   maintenance 0.0    gpumem 7.3   augment 0.000\n",
            "tick 187   kimg 754.0    time 5h 15m 10s   sec/tick 97.2    sec/kimg 24.10   maintenance 0.0    gpumem 7.3   augment 0.000\n",
            "tick 188   kimg 758.1    time 5h 16m 47s   sec/tick 97.2    sec/kimg 24.10   maintenance 0.0    gpumem 7.3   augment 0.000\n",
            "tick 189   kimg 762.1    time 5h 18m 24s   sec/tick 97.0    sec/kimg 24.05   maintenance 0.0    gpumem 7.3   augment 0.000\n",
            "tick 190   kimg 766.1    time 5h 20m 02s   sec/tick 97.2    sec/kimg 24.11   maintenance 0.0    gpumem 7.3   augment 0.015\n",
            "tick 191   kimg 770.2    time 5h 21m 39s   sec/tick 97.2    sec/kimg 24.10   maintenance 0.0    gpumem 7.3   augment 0.056\n",
            "tick 192   kimg 774.2    time 5h 23m 16s   sec/tick 97.4    sec/kimg 24.17   maintenance 0.0    gpumem 7.3   augment 0.096\n",
            "tick 193   kimg 778.2    time 5h 24m 53s   sec/tick 97.3    sec/kimg 24.12   maintenance 0.0    gpumem 7.3   augment 0.136\n",
            "tick 194   kimg 782.3    time 5h 26m 31s   sec/tick 97.7    sec/kimg 24.22   maintenance 0.0    gpumem 7.3   augment 0.177\n",
            "tick 195   kimg 786.3    time 5h 28m 09s   sec/tick 97.5    sec/kimg 24.19   maintenance 0.0    gpumem 7.3   augment 0.217\n",
            "tick 196   kimg 790.3    time 5h 29m 46s   sec/tick 97.8    sec/kimg 24.25   maintenance 0.0    gpumem 7.3   augment 0.248\n",
            "tick 197   kimg 794.4    time 5h 31m 24s   sec/tick 97.7    sec/kimg 24.24   maintenance 0.0    gpumem 7.3   augment 0.289\n",
            "tick 198   kimg 798.4    time 5h 33m 02s   sec/tick 98.1    sec/kimg 24.32   maintenance 0.0    gpumem 7.3   augment 0.329\n",
            "tick 199   kimg 802.4    time 5h 34m 41s   sec/tick 98.2    sec/kimg 24.36   maintenance 0.0    gpumem 7.3   augment 0.346\n",
            "tick 200   kimg 806.5    time 5h 36m 19s   sec/tick 98.3    sec/kimg 24.39   maintenance 0.0    gpumem 7.3   augment 0.387\n",
            "Traceback (most recent call last):\n",
            "  File \"train.py\", line 561, in <module>\n",
            "    main()\n",
            "  File \"train.py\", line 553, in main\n",
            "    run_training(**vars(args))\n",
            "  File \"train.py\", line 451, in run_training\n",
            "    training_loop.training_loop(**training_options)\n",
            "  File \"/content/stylegan2-ada/training/training_loop.py\", line 250, in training_loop\n",
            "    tflib.run([D_train_op, Gs_update_op], {Gs_beta_in: Gs_beta})\n",
            "  File \"/content/stylegan2-ada/dnnlib/tflib/tfutil.py\", line 33, in run\n",
            "    return tf.get_default_session().run(*args, **kwargs)\n",
            "  File \"/tensorflow-1.15.2/python3.7/tensorflow_core/python/client/session.py\", line 956, in run\n",
            "    run_metadata_ptr)\n",
            "  File \"/tensorflow-1.15.2/python3.7/tensorflow_core/python/client/session.py\", line 1180, in _run\n",
            "    feed_dict_tensor, options, run_metadata)\n",
            "  File \"/tensorflow-1.15.2/python3.7/tensorflow_core/python/client/session.py\", line 1359, in _do_run\n",
            "    run_metadata)\n",
            "  File \"/tensorflow-1.15.2/python3.7/tensorflow_core/python/client/session.py\", line 1365, in _do_call\n",
            "    return fn(*args)\n",
            "  File \"/tensorflow-1.15.2/python3.7/tensorflow_core/python/client/session.py\", line 1350, in _run_fn\n",
            "    target_list, run_metadata)\n",
            "  File \"/tensorflow-1.15.2/python3.7/tensorflow_core/python/client/session.py\", line 1443, in _call_tf_sessionrun\n",
            "    run_metadata)\n",
            "KeyboardInterrupt\n"
          ],
          "name": "stdout"
        }
      ]
    },
    {
      "cell_type": "markdown",
      "metadata": {
        "id": "ZeNDJ7jZL82u"
      },
      "source": [
        "# Testing"
      ]
    },
    {
      "cell_type": "code",
      "metadata": {
        "colab": {
          "base_uri": "https://localhost:8080/"
        },
        "id": "gl3BCMUQna-Z",
        "outputId": "f7b43d71-ac30-472b-9145-a27cb320ab32"
      },
      "source": [
        "!gdown https://drive.google.com/u/0/uc?id=10o5zEzPeywzqtJVNH68X3XW-brya3ykE&export=download\n",
        "network_pkl = 'network-snapshot-002822.pkl'"
      ],
      "execution_count": null,
      "outputs": [
        {
          "output_type": "stream",
          "text": [
            "Downloading...\n",
            "From: https://drive.google.com/u/0/uc?id=10o5zEzPeywzqtJVNH68X3XW-brya3ykE\n",
            "To: /content/stylegan2-ada/network-snapshot-002822.pkl\n",
            "283MB [00:05, 49.5MB/s]\n"
          ],
          "name": "stdout"
        }
      ]
    },
    {
      "cell_type": "code",
      "metadata": {
        "id": "YnyqYbbmojGH"
      },
      "source": [
        "!mkdir output"
      ],
      "execution_count": null,
      "outputs": []
    },
    {
      "cell_type": "code",
      "metadata": {
        "colab": {
          "base_uri": "https://localhost:8080/"
        },
        "id": "zsMm7goChxdM",
        "outputId": "984fab75-3a13-46a0-b69e-3aaedf7c7bba"
      },
      "source": [
        "!python generate.py --outdir=./output --trunc=1 --seeds=85,265,297,849 \\\n",
        "    --network=./network-snapshot-002822.pkl"
      ],
      "execution_count": null,
      "outputs": [
        {
          "output_type": "stream",
          "text": [
            "Loading networks from \"./network-snapshot-002822.pkl\"...\n",
            "Setting up TensorFlow plugin \"fused_bias_act.cu\": Loading... Done.\n",
            "Setting up TensorFlow plugin \"upfirdn_2d.cu\": Loading... Done.\n",
            "Generating image for seed 85 (0/4) ...\n",
            "Generating image for seed 265 (1/4) ...\n",
            "Generating image for seed 297 (2/4) ...\n",
            "Generating image for seed 849 (3/4) ...\n"
          ],
          "name": "stdout"
        }
      ]
    },
    {
      "cell_type": "markdown",
      "metadata": {
        "id": "-Sq_xWAEIIty"
      },
      "source": [
        "# Generating More Images"
      ]
    },
    {
      "cell_type": "code",
      "metadata": {
        "id": "oejZue1UnxWH"
      },
      "source": [
        "import os\n",
        "import pickle\n",
        "import numpy as np\n",
        "import PIL.Image\n",
        "import dnnlib\n",
        "import dnnlib.tflib as tflib\n",
        "import tensorflow as tf"
      ],
      "execution_count": null,
      "outputs": []
    },
    {
      "cell_type": "code",
      "metadata": {
        "id": "R3C3ApXQIAU7"
      },
      "source": [
        "tflib.init_tf()\n",
        "_G1, _D1, Gs1 = pickle.load(open(network_pkl, \"rb\"))"
      ],
      "execution_count": null,
      "outputs": []
    },
    {
      "cell_type": "code",
      "metadata": {
        "id": "LhN_ESQNI76c"
      },
      "source": [
        "def generate_images(network_pkl, seeds, truncation_psi):\n",
        "    print('Loading networks from \"%s\"...' % network_pkl)\n",
        "    _G, _D, Gs = pretrained_networks.load_networks(network_pkl)\n",
        "    noise_vars = [var for name, var in Gs.components.synthesis.vars.items() if name.startswith('noise')]\n",
        "\n",
        "    Gs_kwargs = dnnlib.EasyDict()\n",
        "    Gs_kwargs.output_transform = dict(func=tflib.convert_images_to_uint8, nchw_to_nhwc=True)\n",
        "    Gs_kwargs.randomize_noise = False\n",
        "    if truncation_psi is not None:\n",
        "        Gs_kwargs.truncation_psi = truncation_psi\n",
        "\n",
        "    for seed_idx, seed in enumerate(seeds):\n",
        "        print('Generating image for seed %d (%d/%d) ...' % (seed, seed_idx, len(seeds)))\n",
        "        rnd = np.random.RandomState(seed)\n",
        "        z = rnd.randn(1, *Gs.input_shape[1:]) # [minibatch, component]\n",
        "        tflib.set_vars({var: rnd.randn(*var.shape.as_list()) for var in noise_vars}) # [height, width]\n",
        "        images = Gs.run(z, None, **Gs_kwargs) # [minibatch, height, width, channel]\n",
        "        PIL.Image.fromarray(images[0], 'RGB').save(dnnlib.make_run_dir_path('seed%04d.png' % seed))"
      ],
      "execution_count": null,
      "outputs": []
    },
    {
      "cell_type": "markdown",
      "metadata": {
        "id": "wSgnrT4BJ_Px"
      },
      "source": [
        "# Transforming Humans into Pokemon"
      ]
    },
    {
      "cell_type": "markdown",
      "metadata": {
        "id": "3Ij0z1TfKCot"
      },
      "source": [
        "### Projecting onto FFHQ"
      ]
    },
    {
      "cell_type": "markdown",
      "metadata": {
        "id": "Jnx5IgGwKEn_"
      },
      "source": [
        "### Combining FFHQ model and PokeGAN model"
      ]
    }
  ]
}